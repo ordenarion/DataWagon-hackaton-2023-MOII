{
 "cells": [
  {
   "cell_type": "code",
   "execution_count": 1,
   "id": "7a789fca",
   "metadata": {},
   "outputs": [],
   "source": [
    "import pandas as pd\n",
    "import numpy as np\n",
    "\n",
    "from metrics_f1 import calc_f1_score\n",
    "\n",
    "import plotly.express as px\n",
    "import matplotlib.pyplot as plt\n",
    "import plotly.subplots as sp\n",
    "import seaborn as sns\n",
    "\n",
    "from scipy.stats import kstest, spearmanr, mannwhitneyu, ttest_ind, levene, kruskal, chi2_contingency\n",
    "\n",
    "def get_spearman(data_1, data_2):\n",
    "    correlation = spearmanr(data_1, data_2)\n",
    "    return '{0:.2f}\\n{1:.2f}'.format(*correlation)"
   ]
  },
  {
   "cell_type": "code",
   "execution_count": 2,
   "id": "1051917d",
   "metadata": {},
   "outputs": [],
   "source": [
    "from ydata_profiling import ProfileReport\n"
   ]
  },
  {
   "cell_type": "markdown",
   "id": "cf40535b",
   "metadata": {},
   "source": [
    "# Импорт данных и отчет"
   ]
  },
  {
   "cell_type": "code",
   "execution_count": 54,
   "id": "d948de5c",
   "metadata": {},
   "outputs": [],
   "source": [
    "df = pd.read_csv('features (1).csv')"
   ]
  },
  {
   "cell_type": "code",
   "execution_count": 4,
   "id": "eb709e17",
   "metadata": {},
   "outputs": [
    {
     "data": {
      "text/html": [
       "<div>\n",
       "<style scoped>\n",
       "    .dataframe tbody tr th:only-of-type {\n",
       "        vertical-align: middle;\n",
       "    }\n",
       "\n",
       "    .dataframe tbody tr th {\n",
       "        vertical-align: top;\n",
       "    }\n",
       "\n",
       "    .dataframe thead th {\n",
       "        text-align: right;\n",
       "    }\n",
       "</style>\n",
       "<table border=\"1\" class=\"dataframe\">\n",
       "  <thead>\n",
       "    <tr style=\"text-align: right;\">\n",
       "      <th></th>\n",
       "      <th>wagnum</th>\n",
       "      <th>prev_month</th>\n",
       "      <th>forecast_month</th>\n",
       "      <th>current_month</th>\n",
       "      <th>last_dep</th>\n",
       "      <th>last_kap</th>\n",
       "      <th>nearest_pl</th>\n",
       "      <th>wag_age</th>\n",
       "      <th>wag_remains</th>\n",
       "      <th>model</th>\n",
       "      <th>...</th>\n",
       "      <th>current_smerz</th>\n",
       "      <th>ost_prob</th>\n",
       "      <th>reestr_state</th>\n",
       "      <th>mileage_all</th>\n",
       "      <th>flange_sum</th>\n",
       "      <th>rim_sum</th>\n",
       "      <th>target_month</th>\n",
       "      <th>target_day</th>\n",
       "      <th>target_month_lag1</th>\n",
       "      <th>target_day_lag1</th>\n",
       "    </tr>\n",
       "  </thead>\n",
       "  <tbody>\n",
       "    <tr>\n",
       "      <th>0</th>\n",
       "      <td>1071</td>\n",
       "      <td>2022-07-01</td>\n",
       "      <td>2022-09-01</td>\n",
       "      <td>2022-08-01</td>\n",
       "      <td>29.963654</td>\n",
       "      <td>257.963408</td>\n",
       "      <td>6.045299</td>\n",
       "      <td>8.865343</td>\n",
       "      <td>8148.0</td>\n",
       "      <td>11-1807-01</td>\n",
       "      <td>...</td>\n",
       "      <td>0.0</td>\n",
       "      <td>33933</td>\n",
       "      <td>1.0</td>\n",
       "      <td>0.0</td>\n",
       "      <td>0.0</td>\n",
       "      <td>0.0</td>\n",
       "      <td>0.0</td>\n",
       "      <td>0.0</td>\n",
       "      <td>NaN</td>\n",
       "      <td>NaN</td>\n",
       "    </tr>\n",
       "    <tr>\n",
       "      <th>1</th>\n",
       "      <td>1072</td>\n",
       "      <td>2022-07-01</td>\n",
       "      <td>2022-09-01</td>\n",
       "      <td>2022-08-01</td>\n",
       "      <td>32.000657</td>\n",
       "      <td>257.963408</td>\n",
       "      <td>4.008296</td>\n",
       "      <td>9.845514</td>\n",
       "      <td>8722.0</td>\n",
       "      <td>11-1807-01</td>\n",
       "      <td>...</td>\n",
       "      <td>0.0</td>\n",
       "      <td>13982</td>\n",
       "      <td>1.0</td>\n",
       "      <td>0.0</td>\n",
       "      <td>0.0</td>\n",
       "      <td>0.0</td>\n",
       "      <td>0.0</td>\n",
       "      <td>0.0</td>\n",
       "      <td>NaN</td>\n",
       "      <td>NaN</td>\n",
       "    </tr>\n",
       "    <tr>\n",
       "      <th>2</th>\n",
       "      <td>834</td>\n",
       "      <td>2022-07-01</td>\n",
       "      <td>2022-09-01</td>\n",
       "      <td>2022-08-01</td>\n",
       "      <td>13.010534</td>\n",
       "      <td>257.963408</td>\n",
       "      <td>22.998419</td>\n",
       "      <td>9.432090</td>\n",
       "      <td>8367.0</td>\n",
       "      <td>11-1807-01</td>\n",
       "      <td>...</td>\n",
       "      <td>0.0</td>\n",
       "      <td>106439</td>\n",
       "      <td>1.0</td>\n",
       "      <td>0.0</td>\n",
       "      <td>0.0</td>\n",
       "      <td>0.0</td>\n",
       "      <td>0.0</td>\n",
       "      <td>0.0</td>\n",
       "      <td>NaN</td>\n",
       "      <td>NaN</td>\n",
       "    </tr>\n",
       "    <tr>\n",
       "      <th>3</th>\n",
       "      <td>835</td>\n",
       "      <td>2022-07-01</td>\n",
       "      <td>2022-09-01</td>\n",
       "      <td>2022-08-01</td>\n",
       "      <td>22.965564</td>\n",
       "      <td>257.963408</td>\n",
       "      <td>13.010534</td>\n",
       "      <td>9.626481</td>\n",
       "      <td>8462.0</td>\n",
       "      <td>11-1807-01</td>\n",
       "      <td>...</td>\n",
       "      <td>0.0</td>\n",
       "      <td>85493</td>\n",
       "      <td>1.0</td>\n",
       "      <td>0.0</td>\n",
       "      <td>0.0</td>\n",
       "      <td>0.0</td>\n",
       "      <td>0.0</td>\n",
       "      <td>0.0</td>\n",
       "      <td>NaN</td>\n",
       "      <td>NaN</td>\n",
       "    </tr>\n",
       "    <tr>\n",
       "      <th>4</th>\n",
       "      <td>3205</td>\n",
       "      <td>2022-07-01</td>\n",
       "      <td>2022-09-01</td>\n",
       "      <td>2022-08-01</td>\n",
       "      <td>139.173289</td>\n",
       "      <td>257.963408</td>\n",
       "      <td>48.000986</td>\n",
       "      <td>-0.282004</td>\n",
       "      <td>11706.0</td>\n",
       "      <td>11-2163</td>\n",
       "      <td>...</td>\n",
       "      <td>0.0</td>\n",
       "      <td>448949</td>\n",
       "      <td>1.0</td>\n",
       "      <td>0.0</td>\n",
       "      <td>0.0</td>\n",
       "      <td>0.0</td>\n",
       "      <td>0.0</td>\n",
       "      <td>0.0</td>\n",
       "      <td>NaN</td>\n",
       "      <td>NaN</td>\n",
       "    </tr>\n",
       "  </tbody>\n",
       "</table>\n",
       "<p>5 rows × 46 columns</p>\n",
       "</div>"
      ],
      "text/plain": [
       "   wagnum  prev_month forecast_month current_month    last_dep    last_kap  \\\n",
       "0    1071  2022-07-01     2022-09-01    2022-08-01   29.963654  257.963408   \n",
       "1    1072  2022-07-01     2022-09-01    2022-08-01   32.000657  257.963408   \n",
       "2     834  2022-07-01     2022-09-01    2022-08-01   13.010534  257.963408   \n",
       "3     835  2022-07-01     2022-09-01    2022-08-01   22.965564  257.963408   \n",
       "4    3205  2022-07-01     2022-09-01    2022-08-01  139.173289  257.963408   \n",
       "\n",
       "   nearest_pl   wag_age  wag_remains       model  ...  current_smerz  \\\n",
       "0    6.045299  8.865343       8148.0  11-1807-01  ...            0.0   \n",
       "1    4.008296  9.845514       8722.0  11-1807-01  ...            0.0   \n",
       "2   22.998419  9.432090       8367.0  11-1807-01  ...            0.0   \n",
       "3   13.010534  9.626481       8462.0  11-1807-01  ...            0.0   \n",
       "4   48.000986 -0.282004      11706.0     11-2163  ...            0.0   \n",
       "\n",
       "   ost_prob  reestr_state  mileage_all  flange_sum  rim_sum  target_month  \\\n",
       "0     33933           1.0          0.0         0.0      0.0           0.0   \n",
       "1     13982           1.0          0.0         0.0      0.0           0.0   \n",
       "2    106439           1.0          0.0         0.0      0.0           0.0   \n",
       "3     85493           1.0          0.0         0.0      0.0           0.0   \n",
       "4    448949           1.0          0.0         0.0      0.0           0.0   \n",
       "\n",
       "   target_day  target_month_lag1  target_day_lag1  \n",
       "0         0.0                NaN              NaN  \n",
       "1         0.0                NaN              NaN  \n",
       "2         0.0                NaN              NaN  \n",
       "3         0.0                NaN              NaN  \n",
       "4         0.0                NaN              NaN  \n",
       "\n",
       "[5 rows x 46 columns]"
      ]
     },
     "execution_count": 4,
     "metadata": {},
     "output_type": "execute_result"
    }
   ],
   "source": [
    "df.head()"
   ]
  },
  {
   "cell_type": "code",
   "execution_count": 6,
   "id": "10d8c3eb",
   "metadata": {
    "collapsed": true
   },
   "outputs": [
    {
     "data": {
      "application/vnd.jupyter.widget-view+json": {
       "model_id": "14ee685772cc49a5a11fff2bf93902f8",
       "version_major": 2,
       "version_minor": 0
      },
      "text/plain": [
       "Summarize dataset:   0%|          | 0/5 [00:00<?, ?it/s]"
      ]
     },
     "metadata": {},
     "output_type": "display_data"
    },
    {
     "data": {
      "application/vnd.jupyter.widget-view+json": {
       "model_id": "c715eae142b94b8aabcbe6f836ac4691",
       "version_major": 2,
       "version_minor": 0
      },
      "text/plain": [
       "Generate report structure:   0%|          | 0/1 [00:00<?, ?it/s]"
      ]
     },
     "metadata": {},
     "output_type": "display_data"
    },
    {
     "data": {
      "application/vnd.jupyter.widget-view+json": {
       "model_id": "924a32ff819c4ea0925978a929dad46d",
       "version_major": 2,
       "version_minor": 0
      },
      "text/plain": [
       "Render HTML:   0%|          | 0/1 [00:00<?, ?it/s]"
      ]
     },
     "metadata": {},
     "output_type": "display_data"
    },
    {
     "data": {
      "application/vnd.jupyter.widget-view+json": {
       "model_id": "f20cb81d3500402587b19c9ff96bbd16",
       "version_major": 2,
       "version_minor": 0
      },
      "text/plain": [
       "Export report to file:   0%|          | 0/1 [00:00<?, ?it/s]"
      ]
     },
     "metadata": {},
     "output_type": "display_data"
    },
    {
     "data": {
      "application/vnd.jupyter.widget-view+json": {
       "model_id": "",
       "version_major": 2,
       "version_minor": 0
      },
      "text/plain": [
       "Render widgets:   0%|          | 0/1 [00:00<?, ?it/s]"
      ]
     },
     "metadata": {},
     "output_type": "display_data"
    },
    {
     "data": {
      "application/vnd.jupyter.widget-view+json": {
       "model_id": "9e0888cf91e64dfaa8fd65a3955036ba",
       "version_major": 2,
       "version_minor": 0
      },
      "text/plain": [
       "VBox(children=(Tab(children=(Tab(children=(GridBox(children=(VBox(children=(GridspecLayout(children=(HTML(valu…"
      ]
     },
     "metadata": {},
     "output_type": "display_data"
    }
   ],
   "source": [
    "profile = ProfileReport(df, title='Pandas Profiling Report')\n",
    "profile.to_file(\"./hack.html\")\n",
    "profile.to_widgets()"
   ]
  },
  {
   "cell_type": "code",
   "execution_count": 7,
   "id": "a098134c",
   "metadata": {},
   "outputs": [
    {
     "data": {
      "text/plain": [
       "Index(['wagnum', 'prev_month', 'forecast_month', 'current_month', 'last_dep',\n",
       "       'last_kap', 'nearest_pl', 'wag_age', 'wag_remains', 'model', 'rod_id',\n",
       "       'gruz', 'cnsi_volumek', 'tara', 'cnsi_probeg_kr', 'cnsi_probeg_dr',\n",
       "       'kuzov', 'telega', 'tormoz', 'tipvozd', 'tippogl', 'norma_km',\n",
       "       'zavod_build', 'gr_probeg', 'por_probeg', 'tr_rems', 'pr_rems',\n",
       "       'gr_distance', 'por_distance', 'isload', 'current_skoroport',\n",
       "       'current_naval', 'current_nasip', 'current_naliv', 'current_openvagons',\n",
       "       'current_soprovod', 'current_smerz', 'ost_prob', 'reestr_state',\n",
       "       'mileage_all', 'flange_sum', 'rim_sum', 'target_month', 'target_day',\n",
       "       'target_month_lag1', 'target_day_lag1'],\n",
       "      dtype='object')"
      ]
     },
     "execution_count": 7,
     "metadata": {},
     "output_type": "execute_result"
    }
   ],
   "source": [
    "df.columns"
   ]
  },
  {
   "cell_type": "markdown",
   "id": "c877480f",
   "metadata": {},
   "source": [
    "# EDA"
   ]
  },
  {
   "cell_type": "markdown",
   "id": "986e54f7",
   "metadata": {},
   "source": [
    "## Типы грузов"
   ]
  },
  {
   "cell_type": "code",
   "execution_count": 17,
   "id": "9c42c95e",
   "metadata": {},
   "outputs": [],
   "source": [
    "numeric_loaded = ['isload', #доля нагруженных поездов \n",
    "'current_skoroport', #доля скоропортящихся \n",
    "'current_naval', #доля навальны грузов\n",
    "'current_nasip', #доля насыпных\n",
    "'current_naliv', # доля наливных \n",
    "'current_openvagons', #доля платформ\n",
    "'current_soprovod', #доля нуждающися в сопровождении\n",
    " 'current_smerz' #доля смерзшихся\n",
    "                 ]"
   ]
  },
  {
   "cell_type": "code",
   "execution_count": null,
   "id": "8d7771b8",
   "metadata": {},
   "outputs": [],
   "source": [
    "'target_month', 'target_day',"
   ]
  },
  {
   "cell_type": "code",
   "execution_count": 18,
   "id": "15317772",
   "metadata": {},
   "outputs": [],
   "source": [
    "correlation = df[numeric_loaded ].corr(method = 'spearman')\n",
    "text = [[get_spearman(df[i], df[j]) for i in numeric_loaded ] for j in numeric_loaded ]"
   ]
  },
  {
   "cell_type": "code",
   "execution_count": 19,
   "id": "374ce3b5",
   "metadata": {},
   "outputs": [
    {
     "data": {
      "image/png": "[encoded data removed]",
      "text/plain": [
       "<Figure size 1152x432 with 2 Axes>"
      ]
     },
     "metadata": {
      "needs_background": "light"
     },
     "output_type": "display_data"
    }
   ],
   "source": [
    "plt.figure(figsize=(16, 6))\n",
    "heatmap = sns.heatmap(correlation, vmin=-1, vmax=1, annot=text, fmt='' )\n",
    "heatmap.set_title('Correlation Heatmap', fontdict={'fontsize':12}, pad=12);\n",
    "plt.savefig(\"coor_gr.jpeg\")"
   ]
  },
  {
   "cell_type": "code",
   "execution_count": 22,
   "id": "08fd8ca4",
   "metadata": {},
   "outputs": [],
   "source": [
    "numeric_loaded = ['isload', #доля нагруженных поездов \n",
    "'current_skoroport', #доля скоропортящихся \n",
    "'current_naval', #доля навальны грузов\n",
    "'current_naliv', # доля наливных \n",
    "'current_openvagons', #доля платформ\n",
    "'current_soprovod', #доля нуждающися в сопровождении\n",
    " 'current_smerz' #доля смерзшихся\n",
    "                 ]"
   ]
  },
  {
   "cell_type": "code",
   "execution_count": 23,
   "id": "70f2ef0c",
   "metadata": {},
   "outputs": [
    {
     "data": {
      "text/plain": [
       "{'isload': [[0.438577452546633, 0.42842322786008347],\n",
       "  [0.4333333333333333, 0.4193548387096774],\n",
       "  MannwhitneyuResult(statistic=1005334252.5, pvalue=1.3992704053845898e-08),\n",
       "  LeveneResult(statistic=67.31481927522728, pvalue=2.3276458452735766e-16)],\n",
       " 'current_skoroport': [[0.009849434643137766, 0.005357617575709298],\n",
       "  [0.0, 0.0],\n",
       "  MannwhitneyuResult(statistic=983506342.0, pvalue=3.0407421676289553e-13),\n",
       "  LeveneResult(statistic=35.73519143249526, pvalue=2.264180238892187e-09)],\n",
       " 'current_naval': [[0.36735768688351805, 0.4543797303594045],\n",
       "  [0.3870967741935484, 0.5161290322580645],\n",
       "  MannwhitneyuResult(statistic=818553566.5, pvalue=7.028820808818969e-164),\n",
       "  LeveneResult(statistic=404.2191337273309, pvalue=8.127406612659e-90)],\n",
       " 'current_naliv': [[0.004442939973448771, 0.0012977513419387282],\n",
       "  [0.0, 0.0],\n",
       "  MannwhitneyuResult(statistic=979844484.5, pvalue=2.771843617759085e-12),\n",
       "  LeveneResult(statistic=39.52485835440134, pvalue=3.2456294415667494e-10)],\n",
       " 'current_openvagons': [[0.04170645180416476, 0.05582358972371743],\n",
       "  [0.0, 0.0],\n",
       "  MannwhitneyuResult(statistic=918658002.0, pvalue=2.1873043522881383e-47),\n",
       "  LeveneResult(statistic=142.87110454540792, pvalue=6.433489191221253e-33)],\n",
       " 'current_soprovod': [[0.00023826640414478114, 0.00016364879044291066],\n",
       "  [0.0, 0.0],\n",
       "  MannwhitneyuResult(statistic=973090104.0, pvalue=0.20934516948411352),\n",
       "  LeveneResult(statistic=0.5567164738968378, pvalue=0.45558712031156423)],\n",
       " 'current_smerz': [[0.0007040795207198646, 0.00044206565418336574],\n",
       "  [0.0, 0.0],\n",
       "  MannwhitneyuResult(statistic=973599884.5, pvalue=0.12683285737718514),\n",
       "  LeveneResult(statistic=3.1353277010256377, pvalue=0.07661448481989573)]}"
      ]
     },
     "execution_count": 23,
     "metadata": {},
     "output_type": "execute_result"
    }
   ],
   "source": [
    "# Проверка влияет ли количественный показатель на результат или нет. \n",
    "# Тестирование на нормальность распределений в каждой группе\n",
    "# Тест средних (медиан) для двух независимых выборок. \n",
    "# Тестирование дисперсий\n",
    "\n",
    "result = {}\n",
    "for column in numeric_loaded:\n",
    "    groups = [list(df[df.target_month == i][column].values) for i in [0,1] ]\n",
    "    if any([kstest(i, 'norm').pvalue<0.05 for i in groups]): \n",
    "        result[column] = [[np.mean(gr) for gr in groups], [np.median(gr) for gr in groups], mannwhitneyu(*groups, alternative = 'two-sided'), levene(*groups, center='median')]\n",
    "    else: \n",
    "        result[column] = [ [gr.mean() for gr in groups], ttest_ind(*groups), levene(*groups, center='mean')]\n",
    "result"
   ]
  },
  {
   "cell_type": "code",
   "execution_count": 25,
   "id": "ed0cc9fb",
   "metadata": {},
   "outputs": [
    {
     "data": {
      "text/plain": [
       "{'isload': [[0.43841563465194494, 0.4175658585937196],\n",
       "  [0.4333333333333333, 0.4193548387096774],\n",
       "  Ttest_indResult(statistic=5.426529067747375, pvalue=5.752579114852102e-08),\n",
       "  LeveneResult(statistic=30.7946863583692, pvalue=2.871777957218955e-08)],\n",
       " 'current_skoroport': [[0.009686472985394313, 0.006073436610617045],\n",
       "  [0.0, 0.0],\n",
       "  Ttest_indResult(statistic=2.8090455920793507, pvalue=0.004969334307973806),\n",
       "  LeveneResult(statistic=7.890737138380431, pvalue=0.004969334307965248)],\n",
       " 'current_naval': [[0.3702985740548178, 0.45357139507539246],\n",
       "  [0.3870967741935484, 0.5161290322580645],\n",
       "  Ttest_indResult(statistic=-14.9293840564411, pvalue=2.256802710489646e-50),\n",
       "  LeveneResult(statistic=177.69921456917808, pvalue=1.6025545311371042e-40)],\n",
       " 'current_naliv': [[0.004344198436109624, 0.0008710450512660716],\n",
       "  [0.0, 0.0],\n",
       "  Ttest_indResult(statistic=4.05581347131878, pvalue=4.997870031860758e-05),\n",
       "  LeveneResult(statistic=16.449622914130888, pvalue=4.9978700317715184e-05)],\n",
       " 'current_openvagons': [[0.042152737562813986, 0.057552503947305295],\n",
       "  [0.0, 0.0],\n",
       "  Ttest_indResult(statistic=-7.616217802557905, pvalue=2.6233525936302364e-14),\n",
       "  LeveneResult(statistic=58.00677361599998, pvalue=2.623352593569257e-14)],\n",
       " 'current_soprovod': [[0.00023749946952164954, 5.83680298844313e-05],\n",
       "  [0.0, 0.0],\n",
       "  Ttest_indResult(statistic=1.0464975768751485, pvalue=0.2953326055921177),\n",
       "  LeveneResult(statistic=1.0951571784055572, pvalue=0.2953326055908033)],\n",
       " 'current_smerz': [[0.0006959377838687233, 0.0004014423388718107],\n",
       "  [0.0, 0.0],\n",
       "  Ttest_indResult(statistic=1.1627437921893595, pvalue=0.24493483121069748),\n",
       "  LeveneResult(statistic=1.3519731262748922, pvalue=0.24493483121251958)]}"
      ]
     },
     "execution_count": 25,
     "metadata": {},
     "output_type": "execute_result"
    }
   ],
   "source": [
    "# Проверка влияет ли количественный показатель на результат или нет. \n",
    "# Тестирование на нормальность распределений в каждой группе\n",
    "# Тест средних (медиан) для двух независимых выборок. \n",
    "# Тестирование дисперсий\n",
    "\n",
    "result = {}\n",
    "for column in numeric_loaded:\n",
    "    groups = [list(df[df.target_day == i][column].values) for i in [0,1] ]\n",
    "    if any([kstest(i, 'norm').pvalue<0.05 for i in groups]): \n",
    "        result[column] = [[np.mean(gr) for gr in groups], [np.median(gr) for gr in groups], ttest_ind(*groups, alternative = 'two-sided'), levene(*groups, center='median')]\n",
    "    else: \n",
    "        result[column] = [ [gr.mean() for gr in groups], ttest_ind(*groups), levene(*groups, center='mean')]\n",
    "result"
   ]
  },
  {
   "cell_type": "code",
   "execution_count": 47,
   "id": "216f2f6f",
   "metadata": {},
   "outputs": [
    {
     "data": {
      "text/plain": [
       "<AxesSubplot:xlabel='current_smerz', ylabel='Count'>"
      ]
     },
     "execution_count": 47,
     "metadata": {},
     "output_type": "execute_result"
    },
    {
     "data": {
      "image/png": "[encoded data removed]",
      "text/plain": [
       "<Figure size 432x288 with 1 Axes>"
      ]
     },
     "metadata": {
      "needs_background": "light"
     },
     "output_type": "display_data"
    }
   ],
   "source": [
    "sns.histplot(data = df, x = 'current_smerz', hue = 'target_month' )"
   ]
  },
  {
   "cell_type": "code",
   "execution_count": 55,
   "id": "f9883371",
   "metadata": {},
   "outputs": [],
   "source": [
    "df['current_soprovod_cat'] = df.current_soprovod.apply(lambda x: 0 if x==0 else 1)\n",
    "df['current_smerz_cat'] = df.current_smerz.apply(lambda x: 0 if x==0 else 1)"
   ]
  },
  {
   "cell_type": "code",
   "execution_count": 56,
   "id": "63fc1528",
   "metadata": {},
   "outputs": [],
   "source": [
    "cat_gr = ['current_soprovod_cat','current_smerz_cat' ]"
   ]
  },
  {
   "cell_type": "code",
   "execution_count": 59,
   "id": "db13908c",
   "metadata": {},
   "outputs": [
    {
     "name": "stdout",
     "output_type": "stream",
     "text": [
      "current_soprovod_cat \n",
      " Кросс таблица \n",
      " current_soprovod_cat       0    1\n",
      "target_month                     \n",
      "0.0                   193381  144\n",
      "1.0                    10049    4 \n",
      " current_soprovod_cat         0         1\n",
      "target_month                            \n",
      "0.0                   0.950602  0.972973\n",
      "1.0                   0.049398  0.027027 \n",
      " p-value: 0.29 \n",
      "\n",
      "current_smerz_cat \n",
      " Кросс таблица \n",
      " current_smerz_cat       0    1\n",
      "target_month                  \n",
      "0.0                192914  611\n",
      "1.0                 10030   23 \n",
      " current_smerz_cat         0         1\n",
      "target_month                         \n",
      "0.0                0.950577  0.963722\n",
      "1.0                0.049423  0.036278 \n",
      " p-value: 0.15 \n",
      "\n"
     ]
    }
   ],
   "source": [
    "# Тестирование влияния с помощию Хи квадрата. \n",
    "#Сравнение распределений частот фактических и ожидаемых\n",
    "crit_1 = 'target_month'\n",
    "\n",
    "for crit_2 in cat_gr:\n",
    "    ct = pd.crosstab(\n",
    "        df[crit_1],\n",
    "        df[crit_2])\n",
    "    ct2 = pd.crosstab(\n",
    "        df[crit_1],\n",
    "        df[crit_2], normalize = 'columns')\n",
    "    \n",
    "    print(crit_2, '\\n Кросс таблица \\n', ct,'\\n', ct2, '\\n p-value:', round(chi2_contingency(ct)[1],2), '\\n')"
   ]
  },
  {
   "cell_type": "markdown",
   "id": "49627ef4",
   "metadata": {},
   "source": [
    "## По пробегам"
   ]
  },
  {
   "cell_type": "code",
   "execution_count": 14,
   "id": "f9422588",
   "metadata": {},
   "outputs": [],
   "source": [
    "numeric_dist = ['gr_probeg', #груженый пробег\n",
    "'por_probeg', #порожний пробег  \n",
    "'gr_distance', # расстояние груженый \n",
    "'por_distance', # расстояние порожний  \n",
    "  'ost_prob', #остаточный пробег\n",
    "'mileage_all' #средний пробег\n",
    "]"
   ]
  },
  {
   "cell_type": "code",
   "execution_count": 7,
   "id": "9e18f069",
   "metadata": {},
   "outputs": [],
   "source": [
    "correlation = df[numeric_dist ].corr(method = 'spearman')\n",
    "text = [[get_spearman(df[i], df[j]) for i in numeric_dist ] for j in numeric_dist ]"
   ]
  },
  {
   "cell_type": "code",
   "execution_count": 9,
   "id": "7145d165",
   "metadata": {},
   "outputs": [
    {
     "data": {
      "image/png": "[encoded data removed]",
      "text/plain": [
       "<Figure size 1152x432 with 2 Axes>"
      ]
     },
     "metadata": {
      "needs_background": "light"
     },
     "output_type": "display_data"
    }
   ],
   "source": [
    "plt.figure(figsize=(16, 6))\n",
    "heatmap = sns.heatmap(correlation, vmin=-1, vmax=1, annot=text, fmt='' )\n",
    "heatmap.set_title('Correlation Heatmap', fontdict={'fontsize':12}, pad=12);\n",
    "plt.savefig(\"coor_prob.jpeg\")"
   ]
  },
  {
   "cell_type": "code",
   "execution_count": 16,
   "id": "c000315e",
   "metadata": {},
   "outputs": [],
   "source": [
    "numeric_dist.remove('por_probeg')"
   ]
  },
  {
   "cell_type": "code",
   "execution_count": 17,
   "id": "9642633e",
   "metadata": {},
   "outputs": [
    {
     "data": {
      "text/plain": [
       "{'gr_probeg': [[38337.609759955856, 42428.11630454554],\n",
       "  [32130.0, 6742.5],\n",
       "  MannwhitneyuResult(statistic=313934243.0, pvalue=1.9435070548204658e-08),\n",
       "  LeveneResult(statistic=422.7307299134532, pvalue=7.739278088276577e-94)],\n",
       " 'gr_distance': [[543.4233937546143, 553.565733559929],\n",
       "  [187.375, 207.83270676691728],\n",
       "  MannwhitneyuResult(statistic=327614026.5, pvalue=0.18305228132988594),\n",
       "  LeveneResult(statistic=0.03494120558311662, pvalue=0.851719099563704)],\n",
       " 'por_distance': [[546.4859532257279, 575.5439434123779],\n",
       "  [227.83333333333331, 275.7972709551657],\n",
       "  MannwhitneyuResult(statistic=316252720.0, pvalue=2.243854741677779e-06),\n",
       "  LeveneResult(statistic=0.4340350832878638, pvalue=0.5100163527381099)],\n",
       " 'ost_prob': [[79996.93664299768, 7008.67400482509],\n",
       "  [69610.5, 2782.0],\n",
       "  MannwhitneyuResult(statistic=593754025.0, pvalue=0.0),\n",
       "  LeveneResult(statistic=2684.7829448187863, pvalue=0.0)],\n",
       " 'mileage_all': [[7999.267981856867, 14529.45474239857],\n",
       "  [0.0, 0.0],\n",
       "  MannwhitneyuResult(statistic=331052033.0, pvalue=0.576869216925137),\n",
       "  LeveneResult(statistic=164.28853343470146, pvalue=1.3529825719085292e-37)]}"
      ]
     },
     "execution_count": 17,
     "metadata": {},
     "output_type": "execute_result"
    }
   ],
   "source": [
    "# Проверка влияет ли количественный показатель на результат или нет. \n",
    "# Тестирование на нормальность распределений в каждой группе\n",
    "# Тест средних (медиан) для двух независимых выборок. \n",
    "# Тестирование дисперсий\n",
    "\n",
    "result = {}\n",
    "for column in numeric_dist:\n",
    "    groups = [list(df[df.target_day == i][column].values) for i in [0,1] ]\n",
    "    if any([kstest(i, 'norm').pvalue<0.05 for i in groups]): \n",
    "        result[column] = [[np.mean(gr) for gr in groups], [np.median(gr) for gr in groups], mannwhitneyu(*groups, alternative = 'two-sided'), levene(*groups, center='median')]\n",
    "    else: \n",
    "        result[column] = [ [gr.mean() for gr in groups], ttest_ind(*groups), levene(*groups, center='mean')]\n",
    "result"
   ]
  },
  {
   "cell_type": "code",
   "execution_count": 18,
   "id": "6fc963ea",
   "metadata": {},
   "outputs": [
    {
     "data": {
      "text/plain": [
       "{'gr_probeg': [[38032.81605041153, 45554.29356990562],\n",
       "  [32077.0, 17422.0],\n",
       "  MannwhitneyuResult(statistic=874294521.0, pvalue=2.8362572694515143e-71),\n",
       "  LeveneResult(statistic=2470.4581470331464, pvalue=0.0)],\n",
       " 'gr_distance': [[543.6755537893235, 541.9146628362134],\n",
       "  [186.48387096774192, 211.0],\n",
       "  MannwhitneyuResult(statistic=952150779.5, pvalue=0.00028840199369433876),\n",
       "  LeveneResult(statistic=2.6504977011772954, pvalue=0.10351902899951497)],\n",
       " 'por_distance': [[545.9520455246097, 566.3487586885542],\n",
       "  [226.6, 269.57142857142856],\n",
       "  MannwhitneyuResult(statistic=935573815.0, pvalue=7.490345606499873e-11),\n",
       "  LeveneResult(statistic=0.229732468925787, pvalue=0.6317227845881299)],\n",
       " 'ost_prob': [[82447.10226068983, 8754.782055107928],\n",
       "  [72795.0, 5107.0],\n",
       "  MannwhitneyuResult(statistic=1733152484.0, pvalue=0.0),\n",
       "  LeveneResult(statistic=7717.739521491941, pvalue=0.0)],\n",
       " 'mileage_all': [[7753.893944290074, 14876.82790606555],\n",
       "  [0.0, 0.0],\n",
       "  MannwhitneyuResult(statistic=966583029.5, pvalue=0.04060325942676145),\n",
       "  LeveneResult(statistic=573.8067177523119, pvalue=1.2506657685947899e-126)]}"
      ]
     },
     "execution_count": 18,
     "metadata": {},
     "output_type": "execute_result"
    }
   ],
   "source": [
    "# Проверка влияет ли количественный показатель на результат или нет. \n",
    "# Тестирование на нормальность распределений в каждой группе\n",
    "# Тест средних (медиан) для двух независимых выборок. \n",
    "# Тестирование дисперсий\n",
    "\n",
    "result = {}\n",
    "for column in numeric_dist:\n",
    "    groups = [list(df[df.target_month == i][column].values) for i in [0,1] ]\n",
    "    if any([kstest(i, 'norm').pvalue<0.05 for i in groups]): \n",
    "        result[column] = [[np.mean(gr) for gr in groups], [np.median(gr) for gr in groups], mannwhitneyu(*groups, alternative = 'two-sided'), levene(*groups, center='median')]\n",
    "    else: \n",
    "        result[column] = [ [gr.mean() for gr in groups], ttest_ind(*groups), levene(*groups, center='mean')]\n",
    "result"
   ]
  },
  {
   "cell_type": "code",
   "execution_count": 21,
   "id": "9c7f8542",
   "metadata": {},
   "outputs": [
    {
     "data": {
      "text/plain": [
       "<AxesSubplot:xlabel='mileage_all', ylabel='Count'>"
      ]
     },
     "execution_count": 21,
     "metadata": {},
     "output_type": "execute_result"
    },
    {
     "data": {
      "image/png": "[encoded data removed]",
      "text/plain": [
       "<Figure size 432x288 with 1 Axes>"
      ]
     },
     "metadata": {
      "needs_background": "light"
     },
     "output_type": "display_data"
    }
   ],
   "source": [
    "sns.histplot(data = df, x = 'mileage_all', hue = 'target_month')"
   ]
  },
  {
   "cell_type": "code",
   "execution_count": 40,
   "id": "82833065",
   "metadata": {},
   "outputs": [
    {
     "data": {
      "text/plain": [
       "<AxesSubplot:xlabel='tr_rems', ylabel='Count'>"
      ]
     },
     "execution_count": 40,
     "metadata": {},
     "output_type": "execute_result"
    },
    {
     "data": {
      "image/png": "[encoded data removed]",
      "text/plain": [
       "<Figure size 432x288 with 1 Axes>"
      ]
     },
     "metadata": {
      "needs_background": "light"
     },
     "output_type": "display_data"
    }
   ],
   "source": [
    "sns.histplot(data = df, x = 'tr_rems', hue = 'target_month')"
   ]
  },
  {
   "cell_type": "code",
   "execution_count": 41,
   "id": "457f7f28",
   "metadata": {},
   "outputs": [],
   "source": [
    "df['mileage_cat'] = df.mileage_all.apply(lambda x: 0 if x==0 else 1)\n",
    "df['tr_rems_cat'] = df.tr_rems.apply(lambda x: 0 if x==0 else 1)"
   ]
  },
  {
   "cell_type": "code",
   "execution_count": 42,
   "id": "2c95d7b6",
   "metadata": {},
   "outputs": [],
   "source": [
    "cat_dist = ['mileage_cat', 'tr_rems_cat']"
   ]
  },
  {
   "cell_type": "code",
   "execution_count": 43,
   "id": "d6c38c57",
   "metadata": {},
   "outputs": [
    {
     "name": "stdout",
     "output_type": "stream",
     "text": [
      "mileage_cat \n",
      " Кросс таблица \n",
      " mileage_cat        0      1\n",
      "target_month               \n",
      "0.0           173817  19708\n",
      "1.0             9055    998 \n",
      " mileage_cat          0         1\n",
      "target_month                    \n",
      "0.0           0.950484  0.951801\n",
      "1.0           0.049516  0.048199 \n",
      " p-value: 0.42 \n",
      "\n",
      "tr_rems_cat \n",
      " Кросс таблица \n",
      " tr_rems_cat        0      1\n",
      "target_month               \n",
      "0.0           170036  23489\n",
      "1.0             8913   1140 \n",
      " tr_rems_cat          0         1\n",
      "target_month                    \n",
      "0.0           0.950193  0.953713\n",
      "1.0           0.049807  0.046287 \n",
      " p-value: 0.02 \n",
      "\n"
     ]
    }
   ],
   "source": [
    "# Тестирование влияния с помощию Хи квадрата. \n",
    "#Сравнение распределений частот фактических и ожидаемых\n",
    "crit_1 = 'target_month'\n",
    "\n",
    "for crit_2 in cat_dist:\n",
    "    ct = pd.crosstab(\n",
    "        df[crit_1],\n",
    "        df[crit_2])\n",
    "    ct2 = pd.crosstab(\n",
    "        df[crit_1],\n",
    "        df[crit_2], normalize = 'columns')\n",
    "    \n",
    "    print(crit_2, '\\n Кросс таблица \\n', ct,'\\n', ct2, '\\n p-value:', round(chi2_contingency(ct)[1],2), '\\n')"
   ]
  },
  {
   "cell_type": "code",
   "execution_count": 44,
   "id": "4c23aff1",
   "metadata": {},
   "outputs": [
    {
     "name": "stdout",
     "output_type": "stream",
     "text": [
      "mileage_cat \n",
      " Кросс таблица \n",
      " mileage_cat       0      1\n",
      "target_day                \n",
      "0.0          179875  20387\n",
      "1.0            2997    319 \n",
      " mileage_cat         0         1\n",
      "target_day                     \n",
      "0.0          0.983611  0.984594\n",
      "1.0          0.016389  0.015406 \n",
      " p-value: 0.3 \n",
      "\n",
      "tr_rems_cat \n",
      " Кросс таблица \n",
      " tr_rems_cat       0      1\n",
      "target_day                \n",
      "0.0          175958  24304\n",
      "1.0            2991    325 \n",
      " tr_rems_cat         0         1\n",
      "target_day                     \n",
      "0.0          0.983286  0.986804\n",
      "1.0          0.016714  0.013196 \n",
      " p-value: 0.0 \n",
      "\n"
     ]
    }
   ],
   "source": [
    "# Тестирование влияния с помощию Хи квадрата. \n",
    "#Сравнение распределений частот фактических и ожидаемых\n",
    "crit_1 = 'target_day'\n",
    "\n",
    "for crit_2 in cat_dist:\n",
    "    ct = pd.crosstab(\n",
    "        df[crit_1],\n",
    "        df[crit_2])\n",
    "    ct2 = pd.crosstab(\n",
    "        df[crit_1],\n",
    "        df[crit_2], normalize = 'columns')\n",
    "    \n",
    "    print(crit_2, '\\n Кросс таблица \\n', ct,'\\n', ct2, '\\n p-value:', round(chi2_contingency(ct)[1],2), '\\n')"
   ]
  },
  {
   "cell_type": "markdown",
   "id": "aa35a0f7",
   "metadata": {
    "heading_collapsed": true
   },
   "source": [
    "## По ремонтам"
   ]
  },
  {
   "cell_type": "code",
   "execution_count": 35,
   "id": "3e9e60fa",
   "metadata": {
    "hidden": true
   },
   "outputs": [],
   "source": [
    "cat_rem = ['target_month_lag1',  'target_day_lag1']"
   ]
  },
  {
   "cell_type": "code",
   "execution_count": 29,
   "id": "fab76657",
   "metadata": {
    "hidden": true
   },
   "outputs": [],
   "source": [
    "numeric_rem = [\n",
    "'last_dep', #последний депо ремонт,\n",
    "'last_kap', #последний капитальный ремонт\n",
    "'nearest_pl', #ближайший плановый ремонт,\n",
    "'tr_rems', #количество текущих ремонтов\n",
    "'pr_rems' #количество плановых ремонтов\n",
    "]"
   ]
  },
  {
   "cell_type": "code",
   "execution_count": 30,
   "id": "6e7f4789",
   "metadata": {
    "hidden": true
   },
   "outputs": [],
   "source": [
    "correlation = df[numeric_rem ].corr(method = 'spearman')\n",
    "text = [[get_spearman(df[i], df[j]) for i in numeric_rem ] for j in numeric_rem ]"
   ]
  },
  {
   "cell_type": "code",
   "execution_count": 32,
   "id": "439784df",
   "metadata": {
    "hidden": true
   },
   "outputs": [
    {
     "data": {
      "image/png": "[encoded data removed]",
      "text/plain": [
       "<Figure size 1152x432 with 2 Axes>"
      ]
     },
     "metadata": {
      "needs_background": "light"
     },
     "output_type": "display_data"
    }
   ],
   "source": [
    "plt.figure(figsize=(16, 6))\n",
    "heatmap = sns.heatmap(correlation, vmin=-1, vmax=1, annot=text, fmt='' )\n",
    "heatmap.set_title('Correlation Heatmap', fontdict={'fontsize':12}, pad=12);\n",
    "plt.savefig(\"coor_rem.jpeg\")"
   ]
  },
  {
   "cell_type": "code",
   "execution_count": 16,
   "id": "f91539a5",
   "metadata": {
    "hidden": true
   },
   "outputs": [],
   "source": [
    "numeric_dist.remove('por_probeg')"
   ]
  },
  {
   "cell_type": "code",
   "execution_count": 33,
   "id": "11bddffe",
   "metadata": {
    "hidden": true
   },
   "outputs": [
    {
     "data": {
      "text/plain": [
       "{'last_dep': [[35.19329242133533, 39.937707496464526],\n",
       "  [27.992361239450503, 32.03351198176554],\n",
       "  MannwhitneyuResult(statistic=247789954.5, pvalue=4.5113016433674466e-139),\n",
       "  LeveneResult(statistic=81.33231060686393, pvalue=1.9237566989380426e-19)],\n",
       " 'last_kap': [[149.46289481705475, 160.9321097068769],\n",
       "  [149.94969095874657, 257.9634078728516],\n",
       "  MannwhitneyuResult(statistic=308496811.0, pvalue=2.2129155374796277e-13),\n",
       "  LeveneResult(statistic=0.04652574269410607, pvalue=0.8292231677188511)],\n",
       " 'nearest_pl': [[14.176733188039247, 7.0438949326369595],\n",
       "  [13.010534097209389, 6.965235425778763],\n",
       "  MannwhitneyuResult(statistic=481474510.0, pvalue=0.0),\n",
       "  LeveneResult(statistic=1651.5978113325677, pvalue=0.0)],\n",
       " 'tr_rems': [[0.31905703528377827, 0.26085645355850423],\n",
       "  [0.0, 0.0],\n",
       "  MannwhitneyuResult(statistic=339841610.5, pvalue=3.965874174304908e-05),\n",
       "  LeveneResult(statistic=11.301263429034103, pvalue=0.0007746861158571067)],\n",
       " 'pr_rems': [[0.05211672708751536, 0.0015078407720144752],\n",
       "  [0.0, 0.0],\n",
       "  MannwhitneyuResult(statistic=348758823.0, pvalue=4.917996017424858e-39),\n",
       "  LeveneResult(statistic=170.18482780253956, pvalue=6.989040399525692e-39)]}"
      ]
     },
     "execution_count": 33,
     "metadata": {},
     "output_type": "execute_result"
    }
   ],
   "source": [
    "# Проверка влияет ли количественный показатель на результат или нет. \n",
    "# Тестирование на нормальность распределений в каждой группе\n",
    "# Тест средних (медиан) для двух независимых выборок. \n",
    "# Тестирование дисперсий\n",
    "\n",
    "result = {}\n",
    "for column in numeric_rem:\n",
    "    groups = [list(df[df.target_day == i][column].values) for i in [0,1] ]\n",
    "    if any([kstest(i, 'norm').pvalue<0.05 for i in groups]): \n",
    "        result[column] = [[np.mean(gr) for gr in groups], [np.median(gr) for gr in groups], mannwhitneyu(*groups, alternative = 'two-sided'), levene(*groups, center='median')]\n",
    "    else: \n",
    "        result[column] = [ [gr.mean() for gr in groups], ttest_ind(*groups), levene(*groups, center='mean')]\n",
    "result"
   ]
  },
  {
   "cell_type": "code",
   "execution_count": 34,
   "id": "1740d285",
   "metadata": {
    "hidden": true
   },
   "outputs": [
    {
     "data": {
      "text/plain": [
       "{'last_dep': [[35.05288083730955, 39.46123554156992],\n",
       "  [27.992361239450503, 32.000657097681675],\n",
       "  MannwhitneyuResult(statistic=730308314.0, pvalue=0.0),\n",
       "  LeveneResult(statistic=276.74242248374424, pvalue=4.232498177265471e-62)],\n",
       " 'last_kap': [[149.22666932612543, 157.79348814310086],\n",
       "  [149.02975420439844, 168.97266884330273],\n",
       "  MannwhitneyuResult(statistic=917204234.5, pvalue=4.7905807602872644e-24),\n",
       "  LeveneResult(statistic=17.897817049204964, pvalue=2.3319007173849444e-05)],\n",
       " 'nearest_pl': [[14.410175248003698, 7.330083798848505],\n",
       "  [13.010534097209389, 6.965235425778763],\n",
       "  MannwhitneyuResult(statistic=1405679830.5, pvalue=0.0),\n",
       "  LeveneResult(statistic=5006.7497003335775, pvalue=0.0)],\n",
       " 'tr_rems': [[0.31776256297635963, 0.3247786730329255],\n",
       "  [0.0, 0.0],\n",
       "  MannwhitneyuResult(statistic=979446640.0, pvalue=0.03955880447981889),\n",
       "  LeveneResult(statistic=0.48112922569036964, pvalue=0.4879120599711232)],\n",
       " 'pr_rems': [[0.053915514791370626, 0.0007957823535263105],\n",
       "  [0.0, 0.0],\n",
       "  MannwhitneyuResult(statistic=1024184733.5, pvalue=6.302705691540081e-122),\n",
       "  LeveneResult(statistic=550.3110405030806, pvalue=1.5636404647266172e-121)]}"
      ]
     },
     "execution_count": 34,
     "metadata": {},
     "output_type": "execute_result"
    }
   ],
   "source": [
    "# Проверка влияет ли количественный показатель на результат или нет. \n",
    "# Тестирование на нормальность распределений в каждой группе\n",
    "# Тест средних (медиан) для двух независимых выборок. \n",
    "# Тестирование дисперсий\n",
    "\n",
    "result = {}\n",
    "for column in numeric_rem:\n",
    "    groups = [list(df[df.target_month == i][column].values) for i in [0,1] ]\n",
    "    if any([kstest(i, 'norm').pvalue<0.05 for i in groups]): \n",
    "        result[column] = [[np.mean(gr) for gr in groups], [np.median(gr) for gr in groups], mannwhitneyu(*groups, alternative = 'two-sided'), levene(*groups, center='median')]\n",
    "    else: \n",
    "        result[column] = [ [gr.mean() for gr in groups], ttest_ind(*groups), levene(*groups, center='mean')]\n",
    "result"
   ]
  },
  {
   "cell_type": "code",
   "execution_count": 21,
   "id": "78ccc018",
   "metadata": {
    "hidden": true
   },
   "outputs": [
    {
     "data": {
      "text/plain": [
       "<AxesSubplot:xlabel='mileage_all', ylabel='Count'>"
      ]
     },
     "execution_count": 21,
     "metadata": {},
     "output_type": "execute_result"
    },
    {
     "data": {
      "image/png": "[encoded data removed]",
      "text/plain": [
       "<Figure size 432x288 with 1 Axes>"
      ]
     },
     "metadata": {
      "needs_background": "light"
     },
     "output_type": "display_data"
    }
   ],
   "source": [
    "sns.histplot(data = df, x = 'mileage_all', hue = 'target_month')"
   ]
  },
  {
   "cell_type": "code",
   "execution_count": 37,
   "id": "2a38d06b",
   "metadata": {
    "hidden": true
   },
   "outputs": [
    {
     "name": "stdout",
     "output_type": "stream",
     "text": [
      "target_month_lag1 \n",
      " Кросс таблица \n",
      " target_month_lag1     0.0   1.0\n",
      "target_month                   \n",
      "0.0                152507  8684\n",
      "1.0                  8410     0 \n",
      " target_month_lag1       0.0  1.0\n",
      "target_month                    \n",
      "0.0                0.947737  1.0\n",
      "1.0                0.052263  0.0 \n",
      " p-value: 0.0 \n",
      "\n",
      "target_day_lag1 \n",
      " Кросс таблица \n",
      " target_day_lag1     0.0   1.0\n",
      "target_month                 \n",
      "0.0              158332  2859\n",
      "1.0                8410     0 \n",
      " target_day_lag1       0.0  1.0\n",
      "target_month                  \n",
      "0.0              0.949563  1.0\n",
      "1.0              0.050437  0.0 \n",
      " p-value: 0.0 \n",
      "\n"
     ]
    }
   ],
   "source": [
    "# Тестирование влияния с помощию Хи квадрата. \n",
    "#Сравнение распределений частот фактических и ожидаемых\n",
    "crit_1 = 'target_month'\n",
    "\n",
    "for crit_2 in cat_rem:\n",
    "    ct = pd.crosstab(\n",
    "        df[crit_1],\n",
    "        df[crit_2])\n",
    "    ct2 = pd.crosstab(\n",
    "        df[crit_1],\n",
    "        df[crit_2], normalize = 'columns')\n",
    "    \n",
    "    print(crit_2, '\\n Кросс таблица \\n', ct,'\\n', ct2, '\\n p-value:', round(chi2_contingency(ct)[1],2), '\\n')"
   ]
  },
  {
   "cell_type": "code",
   "execution_count": null,
   "id": "976da313",
   "metadata": {
    "hidden": true
   },
   "outputs": [],
   "source": []
  }
 ],
 "metadata": {
  "hide_input": false,
  "kernelspec": {
   "display_name": "Python 3",
   "language": "python",
   "name": "python3"
  },
  "language_info": {
   "codemirror_mode": {
    "name": "ipython",
    "version": 3
   },
   "file_extension": ".py",
   "mimetype": "text/x-python",
   "name": "python",
   "nbconvert_exporter": "python",
   "pygments_lexer": "ipython3",
   "version": "3.8.8"
  }
 },
 "nbformat": 4,
 "nbformat_minor": 5
}
